{
 "cells": [
  {
   "cell_type": "markdown",
   "metadata": {},
   "source": [
    "# 天元 MegEngine 基本概念入门"
   ]
  },
  {
   "cell_type": "markdown",
   "metadata": {},
   "source": [
    "<table class=\"mge-notebook-buttons\" align=\"left\">\n",
    "  <td>\n",
    "    <a target=\"_blank\" href=\"#\"><img src=\"../../assets/logo/megengine-32.png\" />在天元官网查看</a>\n",
    "  </td>\n",
    "  <td>\n",
    "    <a target=\"_blank\" href=\"#\"><img src=\"../../assets/logo/megvii-32.svg\" />在 MegStudio 中运行</a>\n",
    "  </td>\n",
    "  <td>\n",
    "    <a target=\"_blank\" href=\"#\"><img src=\"../../assets/logo/github-32.svg\" />在 GitHub 上查看源代码</a>\n",
    "  </td>\n",
    "  <td>\n",
    "    <a href=\"#\"><img src=\"../../assets/logo/download-32.svg\" />下载当前教程文件</a>\n",
    "  </td>\n",
    "</table>"
   ]
  },
  {
   "cell_type": "markdown",
   "metadata": {},
   "source": [
    "我们为第一次接触天元 MegEngine 框架的用户提供了此系列教程，通过本部分的学习，你将会：\n",
    "\n",
    "- 对天元 MegEngine 框架中的 `Tensor`, `Operator`, `GradManager` 等基本概念有一定的了解；\n",
    "- 对深度学习中的前向传播、反向传播和参数更新的具体过程有更加清晰的认识；\n",
    "- 通过写代码训练一个线性回归模型，对上面提到的这些概念进行具体的实践，加深理解。\n",
    "\n",
    "请先运行下面的代码，检验你的环境中是否已经安装好 MegEngine（[访问官网安装教程](https://megengine.org.cn/install)）："
   ]
  },
  {
   "cell_type": "code",
   "execution_count": 1,
   "metadata": {},
   "outputs": [
    {
     "name": "stdout",
     "output_type": "stream",
     "text": [
      "1.1.0\n"
     ]
    }
   ],
   "source": [
    "import megengine\n",
    "\n",
    "print(megengine.__version__)"
   ]
  },
  {
   "cell_type": "markdown",
   "metadata": {},
   "source": [
    "接下来，我们将学习框架中一些基本模块的使用，先从最基础的张量（Tensor）和算子（Operator）开始吧～"
   ]
  },
  {
   "cell_type": "markdown",
   "metadata": {},
   "source": [
    "## 张量（Tensor）\n",
    "\n",
    "真实世界中的很多非结构化的数据，如文字、图片、音频、视频等，都可以表达成更容易被计算机理解的形式。\n",
    "\n",
    "MegEngine 使用张量（Tensor）来表示数据。类似于 [NumPy](https://numpy.org/) 中的 ndarray，张量可以是标量、向量、矩阵或者多维数组。\n",
    "\n",
    "在 MegEngine 中得到一个 Tensor 的方式有很多： \n",
    "- 我们可以通过 `megengine.functional.tensor` 的 `arange()`, `ones()` 等方法来生成 Tensor，`functional` 模块我们会在后面介绍；\n",
    "- 也可以通过 `Tensor()` 或 `tensor()` 方法，传入 Python List 或者 ndarray 来创建一个 Tensor"
   ]
  },
  {
   "cell_type": "code",
   "execution_count": 2,
   "metadata": {},
   "outputs": [
    {
     "name": "stdout",
     "output_type": "stream",
     "text": [
      "Tensor([0 1 2 3 4], dtype=int32, device=xpux:0)\n",
      "Tensor([0. 1. 2. 3. 4.], device=xpux:0)\n",
      "Tensor([0. 1. 2. 3. 4.], device=xpux:0)\n"
     ]
    }
   ],
   "source": [
    "import numpy as np\n",
    "import megengine as mge # 我们习惯将 MegEngine 缩写为 mge\n",
    "import megengine.functional as F # 我们习惯将 functional 缩写为 F\n",
    "\n",
    "# 1. 生成 Python List，然后转化为 MegEngine Tensor\n",
    "py_list = range(5)\n",
    "print(mge.tensor(py_list))\n",
    "\n",
    "# 2. 生成 Numpy ndarray，然后转化为 MegEngine Tensor\n",
    "np_ndarray = np.arange(5).astype(\"float32\")\n",
    "print(mge.tensor(np_ndarray))\n",
    "\n",
    "# 3. 使用 functional 模块直接生成 MegEngine Tensor\n",
    "mge_tensor = F.arange(5)\n",
    "print(mge_tensor)"
   ]
  },
  {
   "cell_type": "markdown",
   "metadata": {},
   "source": [
    "通过 `dtype` 属性我们可以获取 Tensor 的数据类型，默认 `float32` 类型不进行显示；\n",
    "- 为了方便，统一使用 NumPy 的 `dtype` 表示；\n",
    "- MegEngine Tensor 目前不支持 `float64` 类型；\n",
    "- 使用 `type()` 可以获取实际的类型，用来区分 ndarray 和 Tensor"
   ]
  },
  {
   "cell_type": "code",
   "execution_count": 3,
   "metadata": {},
   "outputs": [
    {
     "name": "stdout",
     "output_type": "stream",
     "text": [
      "<class 'numpy.float32'>\n",
      "<class 'megengine.tensor.Tensor'>\n"
     ]
    }
   ],
   "source": [
    "print(mge_tensor.dtype)\n",
    "print(type(mge_tensor))"
   ]
  },
  {
   "cell_type": "markdown",
   "metadata": {},
   "source": [
    "通过 `astype()` 方法我们可以拷贝创建一个指定数据类型的新 Tensor ，原 Tensor 不变："
   ]
  },
  {
   "cell_type": "code",
   "execution_count": 4,
   "metadata": {},
   "outputs": [
    {
     "name": "stdout",
     "output_type": "stream",
     "text": [
      "Tensor([0. 1. 2. 3. 4.], dtype=float16, device=xpux:0)\n"
     ]
    }
   ],
   "source": [
    "new_tensor = mge_tensor.astype(\"float16\")\n",
    "print(new_tensor)"
   ]
  },
  {
   "cell_type": "markdown",
   "metadata": {},
   "source": [
    "通过 `device` 属性，我们可以获取 Tensor 当前所在的设备：\n",
    "- 一般地，如果在创建 Tensor 时不指定 `device`，其 `device` 属性默认为 `xpux`，表示当前任意一个可用的设备；\n",
    "- 在 GPU 和 CPU 同时存在时，**MegEngine 将自动使用 GPU 作为默认设备进行训练**，查看 `device` 文档了解更多细节。\n",
    "\n",
    "通过 Tensor 自带的 `numpy()` 方法，可以拷贝 Tensor 并转化对应的 ndarray，原 Tensor 不变：:"
   ]
  },
  {
   "cell_type": "code",
   "execution_count": 5,
   "metadata": {},
   "outputs": [
    {
     "name": "stdout",
     "output_type": "stream",
     "text": [
      "<class 'numpy.ndarray'>\n"
     ]
    }
   ],
   "source": [
    "print(type(mge_tensor.numpy()))"
   ]
  },
  {
   "cell_type": "markdown",
   "metadata": {},
   "source": [
    "如果要取得标量的值，可以先转换成 NumPy 的 ndarray 后，再使用 `item()` 方法："
   ]
  },
  {
   "cell_type": "code",
   "execution_count": 6,
   "metadata": {},
   "outputs": [
    {
     "name": "stdout",
     "output_type": "stream",
     "text": [
      "<class 'megengine.tensor.Tensor'>\n",
      "<class 'numpy.ndarray'>\n",
      "<class 'float'>\n"
     ]
    }
   ],
   "source": [
    "print(type(mge_tensor[0]))\n",
    "print(type(mge_tensor[0].numpy()))\n",
    "print(type(mge_tensor[0].numpy().item()))"
   ]
  },
  {
   "cell_type": "markdown",
   "metadata": {},
   "source": [
    "可以发现，不同类型之间的转化比较灵活，但需要注意：\n",
    "- MegEngine Tensor 没有 `mge.numpy(mge_tensor)` 这种用法；\n",
    "- `tensor` 是 `Tensor` 的一个别名（Alias），也可以尝试直接这样导入："
   ]
  },
  {
   "cell_type": "code",
   "execution_count": 7,
   "metadata": {},
   "outputs": [
    {
     "name": "stdout",
     "output_type": "stream",
     "text": [
      "Tensor([1 2 3], dtype=int32, device=xpux:0)\n",
      "Tensor([1. 2. 3.], device=xpux:0)\n"
     ]
    }
   ],
   "source": [
    "from megengine import tensor\n",
    "from megengine import Tensor\n",
    "\n",
    "print(tensor([1, 2, 3]))      # 实际上我们更希望使用 float32 类型的 Tensor\n",
    "print(Tensor([1., 2., 3.]))   # 因此我们会习惯性地加上一个点表示这是浮点数"
   ]
  },
  {
   "cell_type": "markdown",
   "metadata": {},
   "source": [
    "通过 `shape` 属性，我们可以获取 Tensor 的形状："
   ]
  },
  {
   "cell_type": "code",
   "execution_count": 8,
   "metadata": {},
   "outputs": [
    {
     "name": "stdout",
     "output_type": "stream",
     "text": [
      "(2, 3)\n"
     ]
    }
   ],
   "source": [
    "matrix_tensor = mge.tensor([[1., 2., 3.], \n",
    "                            [4., 5., 6.]])\n",
    "print(matrix_tensor.shape)"
   ]
  },
  {
   "cell_type": "markdown",
   "metadata": {},
   "source": [
    "通过 `size` 属性，我们可以获取 Tensor 中元素的个数："
   ]
  },
  {
   "cell_type": "code",
   "execution_count": 9,
   "metadata": {},
   "outputs": [
    {
     "name": "stdout",
     "output_type": "stream",
     "text": [
      "6\n"
     ]
    }
   ],
   "source": [
    "print(matrix_tensor.size)   # 2 * 3 = 6"
   ]
  },
  {
   "cell_type": "markdown",
   "metadata": {},
   "source": [
    "## 算子（Operator）\n",
    "\n",
    "MegEngine 中通过算子 (Operator） 来表示运算。MegEngine 中的算子支持基于 Tensor 的常见数学运算和操作。"
   ]
  },
  {
   "cell_type": "markdown",
   "metadata": {},
   "source": [
    "比如 Tensor 的元素间（Element-wise）加法、减法和乘法："
   ]
  },
  {
   "cell_type": "code",
   "execution_count": 10,
   "metadata": {},
   "outputs": [
    {
     "name": "stdout",
     "output_type": "stream",
     "text": [
      "Tensor([[3. 6. 3.]\n",
      " [3. 6. 3.]], device=xpux:0)\n",
      "Tensor([[1. 2. 1.]\n",
      " [1. 2. 1.]], device=xpux:0)\n",
      "Tensor([[2. 8. 2.]\n",
      " [2. 8. 2.]], device=xpux:0)\n",
      "Tensor([[2. 2. 2.]\n",
      " [2. 2. 2.]], device=xpux:0)\n"
     ]
    }
   ],
   "source": [
    "A = mge.tensor([[2., 4., 2.], \n",
    "                [2., 4., 2.]])\n",
    "B = mge.tensor([[1., 2., 1.], \n",
    "                [1., 2., 1.]])\n",
    "\n",
    "print(A + B)\n",
    "print(A - B)\n",
    "print(A * B)\n",
    "print(A / B)"
   ]
  },
  {
   "cell_type": "markdown",
   "metadata": {},
   "source": [
    "你也可以使用 MegEngine 中的 `functional` 模块中的各种方法来完成对应计算："
   ]
  },
  {
   "cell_type": "code",
   "execution_count": 11,
   "metadata": {},
   "outputs": [
    {
     "name": "stdout",
     "output_type": "stream",
     "text": [
      "Tensor([[3. 6. 3.]\n",
      " [3. 6. 3.]], device=xpux:0)\n",
      "Tensor([[1. 2. 1.]\n",
      " [1. 2. 1.]], device=xpux:0)\n",
      "Tensor([[2. 8. 2.]\n",
      " [2. 8. 2.]], device=xpux:0)\n",
      "Tensor([[2. 2. 2.]\n",
      " [2. 2. 2.]], device=xpux:0)\n"
     ]
    }
   ],
   "source": [
    "import megengine.functional as F \n",
    "\n",
    "print(F.add(A, B))\n",
    "print(F.sub(A, B))\n",
    "print(F.mul(A, B))\n",
    "print(F.div(A, B))"
   ]
  },
  {
   "cell_type": "markdown",
   "metadata": {},
   "source": [
    "Tensor 支持 Python 中常见的切片（Slicing）操作："
   ]
  },
  {
   "cell_type": "code",
   "execution_count": 12,
   "metadata": {},
   "outputs": [
    {
     "name": "stdout",
     "output_type": "stream",
     "text": [
      "Tensor([4. 5.], device=xpux:0)\n"
     ]
    }
   ],
   "source": [
    "A = mge.tensor([[1., 2., 3.], \n",
    "                [4., 5., 6.]])\n",
    "\n",
    "print(A[1, :2])"
   ]
  },
  {
   "cell_type": "markdown",
   "metadata": {},
   "source": [
    "使用 `reshape()` 方法，可以得到修改形状后的 Tensor:"
   ]
  },
  {
   "cell_type": "code",
   "execution_count": 13,
   "metadata": {},
   "outputs": [
    {
     "name": "stdout",
     "output_type": "stream",
     "text": [
      "(2, 3)\n",
      "(3, 2)\n"
     ]
    }
   ],
   "source": [
    "A = mge.tensor([[1., 2., 3.], \n",
    "                [4., 5., 6.]])\n",
    "\n",
    "print(A.shape)\n",
    "A = A.reshape(3, 2)\n",
    "print(A.shape)"
   ]
  },
  {
   "cell_type": "markdown",
   "metadata": {},
   "source": [
    "另外， `reshape()` 方法的参数允许存在单个维度的缺省值，用 -1 表示。此时，`reshape()` 会自动推理该维度的值："
   ]
  },
  {
   "cell_type": "code",
   "execution_count": 14,
   "metadata": {},
   "outputs": [
    {
     "name": "stdout",
     "output_type": "stream",
     "text": [
      "(2, 3, 4, 5)\n",
      "(2, 12, 5)\n"
     ]
    }
   ],
   "source": [
    "A = mge.tensor(np.random.random((2, 3, 4, 5)))\n",
    "\n",
    "print(A.shape)\n",
    "A = A.reshape(2, -1, 5)\n",
    "print(A.shape)"
   ]
  },
  {
   "cell_type": "markdown",
   "metadata": {},
   "source": [
    "在 `functional` 模块中提供了更多的算子，比如 Tensor 的矩阵乘可以使用 `matmul()` 方法："
   ]
  },
  {
   "cell_type": "code",
   "execution_count": 15,
   "metadata": {},
   "outputs": [
    {
     "name": "stdout",
     "output_type": "stream",
     "text": [
      "Tensor([[35. 44.]\n",
      " [44. 56.]], device=xpux:0)\n"
     ]
    }
   ],
   "source": [
    "x = mge.tensor([[1., 3., 5.],\n",
    "                [2., 4., 6.]])\n",
    "w = mge.tensor([[1., 2.],\n",
    "                [3., 4.],\n",
    "                [5., 6.]])\n",
    "\n",
    "p = F.matmul(x, w)\n",
    "print(p)"
   ]
  },
  {
   "cell_type": "markdown",
   "metadata": {},
   "source": [
    "我们可以使用 NumPy 的矩阵乘来验证一下这个结果："
   ]
  },
  {
   "cell_type": "code",
   "execution_count": 16,
   "metadata": {},
   "outputs": [
    {
     "name": "stdout",
     "output_type": "stream",
     "text": [
      "[[35. 44.]\n",
      " [44. 56.]]\n"
     ]
    }
   ],
   "source": [
    "import numpy as np\n",
    "\n",
    "x = np.array([[1., 3., 5.],\n",
    "              [2., 4., 6.]])\n",
    "w = np.array([[1., 2.],\n",
    "              [3., 4.],\n",
    "              [5., 6.]])\n",
    "\n",
    "p = np.matmul(x, w)\n",
    "print(p)"
   ]
  },
  {
   "cell_type": "markdown",
   "metadata": {},
   "source": [
    "更多算子可以参考 `functional` 模块的文档部分。\n",
    "\n",
    "现在你可以适当休息一下，脑海中回想一下张量（Tensor）和算子（Operator）的概念，然后继续阅读教程后面的部分。"
   ]
  },
  {
   "cell_type": "markdown",
   "metadata": {},
   "source": [
    "## 计算图（Computing Graph）"
   ]
  },
  {
   "cell_type": "markdown",
   "metadata": {},
   "source": [
    "MegEngine 是基于计算图（Computing Graph）的深度神经网络学习框架，下面通过一个简单的数学表达式 $y=(w * x)+b$ 来介绍计算图的基本概念，如下图所示：\n",
    "\n",
    "![Computing Graph](../../assets/images/computing_graph.png)\n",
    "\n",
    "计算之间的各种流程依赖关系可以构成一张计算图，从中可以看到，计算图中存在：\n",
    "- 数据节点（图中的实心圈）：如输入数据 $x$、**参数** $w$ 和 $b$，运算得到的中间数据 $p$，以及最终的运算输出 $y$；\n",
    "- 计算节点（图中的空心圈）：图中 $*$ 和 $+$ 分别表示计算节点 **乘法** 和 **加法**，是施加在数据节点上的运算；\n",
    "- 边（图中的箭头）：表示数据的流向，体现了数据节点和计算节点之间的依赖关系"
   ]
  },
  {
   "cell_type": "markdown",
   "metadata": {},
   "source": [
    "**在 MegEngine 中，用张量（Tensor）表示计算图中的数据节点，用算子（Operator）实现数据节点之间的运算。**\n",
    "\n",
    "**在深度学习领域，任何复杂的深度神经网络模型本质上都可以用一个计算图表示出来。**\n",
    "\n",
    "神经网络模型的训练其实就是在重复以下过程：\n",
    "- **前向传播**：计算由计算图表示的数学表达式的值的过程。在上图中则是：\n",
    "  - 输入 $x$ 和参数 $w$ 首先经过乘法运算得到中间结果 $p$，\n",
    "  - 接着 $p$ 和参数 $b$ 经过加法运算，得到右侧最终的输出 $y$，这就是一个完整的前向传播过程。\n",
    "- **反向传播**：根据计算图的输出，通过链式求导法则，对所有的参数求梯度。在上图中，即计算 $\\frac{\\partial y}{\\partial w}$ 和 $\\frac{\\partial y}{\\partial b}$.\n",
    "- **参数更新**：得到梯度后，需要使用梯度下降法（Gradient Descent）对参数做更新，从而达到模型优化的效果。在上图中，即对 $w$ 和 $b$ 做更新。\n",
    "\n",
    "模型训练完成后便可用于测试（或者说推理），此时我们不需要再对模型本身做任何更改，只需要将数据经过前向传播得到对应的输出即可。\n",
    "\n",
    "### 链式法则计算梯度\n",
    "\n",
    "例如，为了得到上图中 $y$ 关于参数 $w$ 的梯度，反向传播的过程如下图所示：\n",
    "\n",
    "![Backpropagation](../../assets/images/back_prop.png)\n",
    "\n",
    "- 首先 $y = p + b$，因此 $\\frac{\\partial y}{\\partial p} = 1$ \n",
    "- 接着，反向追溯，$p = w * x$ ，因此，$\\frac{\\partial p}{\\partial w}=x $\n",
    "- 根据链式求导法则，$\\frac{\\partial y}{\\partial w}=\\frac{\\partial y}{\\partial p} * \\frac{\\partial p}{\\partial w} = 1 * x $\n",
    "- 因此最终 $y$ 关于参数 $w$ 的梯度为 $x$."
   ]
  },
  {
   "cell_type": "markdown",
   "metadata": {},
   "source": [
    "## 求导器（Grade Manager）\n",
    "\n",
    "推导梯度是件枯燥的事情，尤其是当模型的前向传播计算输出的过程变得相对复杂时，根据链式法则计算梯度会变得异常枯燥无味。\n",
    "\n",
    "自动求导是深度学习框架对使用者而言最有用的特性之一，它自动地完成了反向传播过程中根据链式法则去推导参数梯度的过程。\n",
    "\n",
    "MegEngine 的 `autodiff` 模块为计算图中的张量提供了自动求导功能，继续以上图的例子进行说明："
   ]
  },
  {
   "cell_type": "code",
   "execution_count": 17,
   "metadata": {},
   "outputs": [
    {
     "name": "stdout",
     "output_type": "stream",
     "text": [
      "Tensor([2.], device=xpux:0)\n",
      "Tensor([1.], device=xpux:0)\n"
     ]
    }
   ],
   "source": [
    "from megengine.autodiff import GradManager\n",
    "\n",
    "w = mge.tensor([3.])\n",
    "x = mge.tensor([2.])\n",
    "b = mge.tensor(-1.)\n",
    "\n",
    "gm = GradManager().attach([w, b])   # 新建一个求导器，绑定需要求导的变量，实例通常习惯写成 gm\n",
    "with gm:                            # 开始记录计算图\n",
    "    p = F.mul(w, x)\n",
    "    y = p + b                       \n",
    "    gm.backward(y)                  # 计算 y 关于参数的导数，过程中不断地使用链式法则\n",
    "\n",
    "print(w.grad)                       # 得到结果为 x\n",
    "print(b.grad)                       # 得到结果为 1"
   ]
  },
  {
   "cell_type": "markdown",
   "metadata": {},
   "source": [
    "可以看到，求出的梯度本身也是 Tensor，`GradManager` 负责管理和计算梯度（在默认情况下，Tensor 是不需要计算梯度的）。\n",
    "\n",
    "我们可以使用 `attach()` 来绑定需要计算梯度的变量（绑定后可使用 `detach()` 将其取消绑定），使用 `backward()` 进行梯度的计算。\n",
    "\n",
    "上面 `with` 代码段中的前向运算都会被求导器记录，有关求导器的原理，可以查看 `GradManager` 文档了解细节。"
   ]
  },
  {
   "cell_type": "markdown",
   "metadata": {},
   "source": [
    "## 优化器（Optimizer）\n",
    "\n",
    "你应该注意到了，我们使用参数（Parameter）来称呼张量（Tensor）$w$ 和 $b$, 因为与输入 $x$ 不同，计算图中的 $w$ 和 $b$ 是需要进行更新/优化的变量。\n",
    "\n",
    "MegEngine 中使用 `Parameter` 来表示参数（注意没有小写形式），Parameter 是 Tensor 的子类，其对象（即网络参数）可以被优化器更新。\n",
    "\n",
    "显然，GradManager 支持对于 Parameter 的梯度计算："
   ]
  },
  {
   "cell_type": "code",
   "execution_count": 18,
   "metadata": {},
   "outputs": [
    {
     "name": "stdout",
     "output_type": "stream",
     "text": [
      "<class 'megengine.tensor.Parameter'>\n",
      "<class 'megengine.tensor.Parameter'>\n",
      "<class 'megengine.tensor.Tensor'>\n"
     ]
    }
   ],
   "source": [
    "w = mge.Parameter([3.])\n",
    "x = mge.Tensor([2.])\n",
    "b = mge.Parameter(-1.)\n",
    "\n",
    "print(type(w))\n",
    "print(type(b))\n",
    "\n",
    "gm = GradManager().attach([w, b])   # 这次 attach() 传入的是 Parameter 而不是 Tensor\n",
    "with gm:                            \n",
    "    p = F.mul(w, x)\n",
    "    y = p + b                       \n",
    "    gm.backward(y)                  \n",
    "    \n",
    "print(type(w.grad))                 # 计算得到的梯度依然是 Tensor"
   ]
  },
  {
   "cell_type": "markdown",
   "metadata": {},
   "source": [
    "前向传播和反向传播的过程完成后，我们得到了参数对应需要更新的梯度，如 `w` 相对于输出 $y$ 的梯度 `w.grad`. \n",
    "\n",
    "根据梯度下降的思想，参数 $w$ 的更新规则为：`w = w - lr * w.grad`, 其中 `lr` 是学习率（Learning Rate），控制参数更新速度。\n",
    "\n",
    "P.S: 类似学习率这种，训练前人为进行设定的，而非由模型学得的参数，通常被称为超参数（Hyperparameter）。\n",
    "\n",
    "MegEngine 的 `Optimizer` 模块提供了基于各种常见优化策略的优化器，如 Adam 和 SGD 等。\n",
    "\n",
    "它们都继承自 Optimizer 基类，主要包含参数梯度的清空 `clear_grad()` 和参数更新 `step()` 这两个方法："
   ]
  },
  {
   "cell_type": "code",
   "execution_count": 19,
   "metadata": {},
   "outputs": [
    {
     "name": "stdout",
     "output_type": "stream",
     "text": [
      "Tensor([2.98], device=xpux:0) None\n"
     ]
    }
   ],
   "source": [
    "import megengine.optimizer as optim      # 我们习惯将 optimizer 缩写为 optim\n",
    "\n",
    "optimizer = optim.SGD([w, b], lr=0.01)   # 实例化随机梯度下降（SGD）优化器，传入 Parameter w 和 b\n",
    "optimizer.step()                         # 更新参数值 w = w - lr * w.grad\n",
    "optimizer.clear_grad()                   # 将参数的梯度清空，节省内存，以便下一次计算，w.grad 变为 None\n",
    "\n",
    "print(w, w.grad)"
   ]
  },
  {
   "cell_type": "markdown",
   "metadata": {},
   "source": [
    "**提示：**多次实践表明，用户经常忘记在更新参数后做梯度清空操作，因此推荐使用这样的写法：`optimizer.step().clear_grad()`\n",
    "\n",
    "我们使用 Numpy 来手动模拟一次参数 `w` 的更新过程："
   ]
  },
  {
   "cell_type": "code",
   "execution_count": 20,
   "metadata": {},
   "outputs": [
    {
     "name": "stdout",
     "output_type": "stream",
     "text": [
      "[2.98]\n"
     ]
    }
   ],
   "source": [
    "w = np.array([3.])\n",
    "dw = np.array([2.])             # 前面我们已经计算出了 w.grad = x, 这里用 dw 表示\n",
    "lr = 0.01\n",
    "\n",
    "w = w - lr * dw\n",
    "print(w)                        # 和 optimizer.step() 更新后得到的 w 应该一致"
   ]
  },
  {
   "cell_type": "markdown",
   "metadata": {},
   "source": [
    "这样我们便成功地进行了一次参数更新，在实际训练模型时，参数的更新会迭代进行很多次，迭代次数 `epochs` 也是一种超参数，需要人为设定。"
   ]
  },
  {
   "cell_type": "markdown",
   "metadata": {},
   "source": [
    "## 损失函数（Loss Function）\n",
    "\n",
    "现在我们明白了，深度神经网络模型的优化过程，实际上就是使用梯度下降算法来更新模型中的参数。\n",
    "\n",
    "但请注意，上面的 $y$ 只是表达式的输出结果，并不是我们需要优化的目标，我们的目标是：模型输出和真实结果尽可能接近。\n",
    "\n",
    "有了数据之后通过前向传播可以得到模型的输出，此时我们用 **损失函数（Loss Function）** 来度量模型输出与真实结果之间的差距。\n",
    "\n",
    "MegEngine 提供了各种常见损失函数，具体可见文档中的 `loss` 部分。\n",
    "\n",
    "对于 $y = w * x + b$ 这样的线性模型，我们这里使用均方误差损失（Mean Square Loss, MSE）表示模型输出 $y_{pred}$ 和实际值 $y_{real}$ 的差距：\n",
    "\n",
    "$$\n",
    "\\ell(y_{pred}, y_{real})= \\frac{1}{n }\\sum_{i=1}^{n}\\left(y_{i}-\\hat{y}_{i}\\right)^{2}\n",
    "$$\n",
    "\n",
    "注：在上面的公式中 $\\left(y_{i}-\\hat{y}_{i}\\right)^{2}$ 计算的是单个样本 $x_{i}$ 输入模型后得到的输出 $y_{i}$ 和实际值 $\\hat{y}_{i}$ 的差异，数据集中有 $n$ 个样本。"
   ]
  },
  {
   "cell_type": "code",
   "execution_count": 21,
   "metadata": {},
   "outputs": [
    {
     "name": "stdout",
     "output_type": "stream",
     "text": [
      "9.75\n",
      "9.75\n"
     ]
    }
   ],
   "source": [
    "import megengine.functional as F\n",
    "\n",
    "pred = np.array([3, 3, 3, 3]).astype(np.float32)\n",
    "real = np.array([2, 8, 6, 1]).astype(np.float32)\n",
    "\n",
    "loss = np.mean((pred - real) ** 2)       # 根据公式定义计算\n",
    "print(loss)\n",
    "\n",
    "loss = F.nn.square_loss(pred, real)      # MegEngine 中的实现\n",
    "print(loss)"
   ]
  },
  {
   "cell_type": "markdown",
   "metadata": {},
   "source": [
    "选定损失函数作为优化目标后，我们可通过梯度下降不断地更新参数 $w$ 和 $b$, 从而减少模型输出和实际值的差异。"
   ]
  },
  {
   "cell_type": "markdown",
   "metadata": {},
   "source": [
    "## 练习：线性回归\n",
    "\n",
    "接下来，我们用一个非常简单的例子，帮助你将前面提到的概念给联系起来。\n",
    "\n",
    "假设有人提供给你一些包含数据 `data` 和标签 `label` 的样本集合 $S$ 用于训练模型，希望将来给出输入 $x$, 模型能对输出 $y$ 进行较好地预测：\n",
    "\n",
    "$$\n",
    "\\begin{aligned}\n",
    "data &= [x_1, x_2, \\ldots , x_n] \\\\\n",
    "label &= [y_1, y_2, \\ldots , y_n] \\\\\n",
    "S &= \\{(x_1, y_1), (x_2, y_2), \\ldots (x_n, y_n)\\}\n",
    "\\end{aligned}\n",
    "$$\n",
    "\n",
    "请运行下面的代码以随机生成包含 `data` 和 `label` 的样本:"
   ]
  },
  {
   "cell_type": "code",
   "execution_count": 22,
   "metadata": {},
   "outputs": [
    {
     "name": "stdout",
     "output_type": "stream",
     "text": [
      "The real w: 7, b: 1\n"
     ]
    },
    {
     "data": {
      "image/png": "[encoded data removed]",
      "text/plain": [
       "<Figure size 432x288 with 1 Axes>"
      ]
     },
     "metadata": {
      "needs_background": "light"
     },
     "output_type": "display_data"
    }
   ],
   "source": [
    "%matplotlib inline \n",
    "import numpy as np\n",
    "import matplotlib.pyplot as plt\n",
    "\n",
    "def generate_random_examples(n=100, noise=5):\n",
    "\n",
    "    w = np.random.randint(5, 10)\n",
    "    b = np.random.randint(-10, 10)\n",
    "    print(\"The real w: {}, b: {}\".format(w, b))\n",
    "    \n",
    "    # 初始化 data 和 label\n",
    "    data = np.zeros((n,))\n",
    "    label = np.zeros((n,))\n",
    "    \n",
    "    # 生成 n 个随机样本数据，并添加一定的噪声干扰\n",
    "    for i in range(n):\n",
    "        data[i] = np.random.uniform(-10, 10)\n",
    "        label[i] = w * data[i] + b + np.random.uniform(-noise, noise)\n",
    "        plt.scatter(data[i], label[i], marker=\".\")  # 将样本点绘制在坐标图上\n",
    "    \n",
    "    # 展示样本数据的分布\n",
    "    plt.plot()\n",
    "    plt.show()\n",
    "    return data, label\n",
    "\n",
    "original_data, original_label = generate_random_examples()"
   ]
  },
  {
   "cell_type": "markdown",
   "metadata": {},
   "source": [
    "通过可视化观察样本的分布规律，不难发现，我们可以:\n",
    "1. 尝试拟合 $y = w * x + b$ 这样一个线性模型（均为标量）；\n",
    "2. 选择使用均方误差损失作为优化目标；\n",
    "3. 通过梯度下降法来更新参数 $w$ 和 $b$.\n",
    "\n",
    "### Numpy 实现\n",
    "\n",
    "对于这种非常简单的模型，完全可以使用 Numpy 进行算法实现，我们借此了解一下整个模型训练的流程："
   ]
  },
  {
   "cell_type": "code",
   "execution_count": 23,
   "metadata": {},
   "outputs": [
    {
     "name": "stdout",
     "output_type": "stream",
     "text": [
      "epoch = 0, w = 4.769, b = 0.124, loss = 1692.566\n"
     ]
    },
    {
     "data": {
      "image/png": "[encoded data removed]",
      "text/plain": [
       "<Figure size 432x288 with 1 Axes>"
      ]
     },
     "metadata": {
      "needs_background": "light"
     },
     "output_type": "display_data"
    },
    {
     "name": "stdout",
     "output_type": "stream",
     "text": [
      "epoch = 1, w = 6.313, b = 0.180, loss = 185.987\n"
     ]
    },
    {
     "data": {
      "image/png": "[encoded data removed]",
      "text/plain": [
       "<Figure size 432x288 with 1 Axes>"
      ]
     },
     "metadata": {
      "needs_background": "light"
     },
     "output_type": "display_data"
    },
    {
     "name": "stdout",
     "output_type": "stream",
     "text": [
      "epoch = 2, w = 6.813, b = 0.213, loss = 27.896\n"
     ]
    },
    {
     "data": {
      "image/png": "[encoded data removed]",
      "text/plain": [
       "<Figure size 432x288 with 1 Axes>"
      ]
     },
     "metadata": {
      "needs_background": "light"
     },
     "output_type": "display_data"
    },
    {
     "name": "stdout",
     "output_type": "stream",
     "text": [
      "epoch = 3, w = 6.975, b = 0.238, loss = 11.266\n"
     ]
    },
    {
     "data": {
      "image/png": "[encoded data removed]",
      "text/plain": [
       "<Figure size 432x288 with 1 Axes>"
      ]
     },
     "metadata": {
      "needs_background": "light"
     },
     "output_type": "display_data"
    },
    {
     "name": "stdout",
     "output_type": "stream",
     "text": [
      "epoch = 4, w = 7.027, b = 0.261, loss = 9.479\n"
     ]
    },
    {
     "data": {
      "image/png": "[encoded data removed]",
      "text/plain": [
       "<Figure size 432x288 with 1 Axes>"
      ]
     },
     "metadata": {
      "needs_background": "light"
     },
     "output_type": "display_data"
    }
   ],
   "source": [
    "# 设置超参数\n",
    "epochs = 5\n",
    "lr = 0.01\n",
    "\n",
    "# 获取数据\n",
    "data = original_data\n",
    "label = original_label\n",
    "n = len(data)\n",
    "\n",
    "# 参数初始化\n",
    "w = 0\n",
    "b = 0\n",
    "\n",
    "# 定义模型\n",
    "def linear_model(x):\n",
    "    return w * x + b\n",
    "\n",
    "# 模型训练\n",
    "for epoch in range(epochs):\n",
    "    \n",
    "    # 初始化单个 epoch 训练得到的损失\n",
    "    loss = 0\n",
    "    \n",
    "    # 梯度初始化，等同于 Optimizer 中的 clear_grad()\n",
    "    sum_grad_w = 0\n",
    "    sum_grad_b = 0\n",
    "    \n",
    "    # 为了方便理解，这里没有使用 “向量化实现”，而是使用了 for 循环写法\n",
    "    for i in range(n):\n",
    "        \n",
    "        # 前向传播，主要计算预测值 pred 以及损失值 loss\n",
    "        pred = linear_model(data[i])      # 通常 pred 为将 data 代入 “模型” 得到的输出，即 model(data)\n",
    "        loss += (pred - label[i]) ** 2    # 等同于对每个样本使用 F.nn.loss(pred, label) 计算后求和\n",
    "        \n",
    "        # 反向传播，根据均方误差损失计算参数的梯度，这里不解释推导过程，等同于 gm.backward()\n",
    "        sum_grad_w += 2 * (pred - label[i]) * data[i]\n",
    "        sum_grad_b += 2 * (pred - label[i])\n",
    "    \n",
    "    # 计算平均损失，因为对于不同的输入，求得的损失都会不同，所以通常求和后取平均\n",
    "    loss = loss / n\n",
    "    \n",
    "    # 计算平均梯度，因为对于不同的输入，求得的梯度都会不同，所以通常求和后取平均\n",
    "    grad_w = sum_grad_w / n\n",
    "    grad_b = sum_grad_b / n\n",
    "    \n",
    "    # 更新参数，等同于 Optimizer 中的 step()\n",
    "    w = w - lr * grad_w\n",
    "    b = b - lr * grad_b\n",
    "    \n",
    "    # 查看参数和损失\n",
    "    print(\"epoch = {}, w = {:.3f}, b = {:.3f}, loss = {:.3f}\".format(epoch, w, b, loss))\n",
    "    \n",
    "    # 绘图查看拟合情况\n",
    "    x = np.array([-10, 10])\n",
    "    y = w * x + b\n",
    "    plt.scatter(data, label, marker=\".\")\n",
    "    plt.plot(x, y, \"-b\")\n",
    "    plt.show()"
   ]
  },
  {
   "cell_type": "markdown",
   "metadata": {},
   "source": [
    "可以看到，在 5 个 epochs 的迭代训练中，已经得到了一个拟合状况不错的线性模型。"
   ]
  },
  {
   "cell_type": "markdown",
   "metadata": {},
   "source": [
    "### MegEngine 实现\n",
    "\n",
    "上面的流程，完全可以使用 MegEngine 来实现（有兴趣的读者可以参照上面的注释，先尝试自己实现）："
   ]
  },
  {
   "cell_type": "code",
   "execution_count": 24,
   "metadata": {},
   "outputs": [
    {
     "name": "stdout",
     "output_type": "stream",
     "text": [
      "epoch = 0, w = 4.769, b = 0.124, loss = 1692.566\n",
      "epoch = 1, w = 6.313, b = 0.180, loss = 185.987\n",
      "epoch = 2, w = 6.813, b = 0.213, loss = 27.896\n",
      "epoch = 3, w = 6.975, b = 0.238, loss = 11.266\n",
      "epoch = 4, w = 7.027, b = 0.261, loss = 9.479\n"
     ]
    }
   ],
   "source": [
    "import megengine as mge\n",
    "import megengine.functional as F\n",
    "from megengine.autodiff import GradManager\n",
    "import megengine.optimizer as optim\n",
    "\n",
    "# 设置超参数\n",
    "epochs = 5\n",
    "lr = 0.01\n",
    "\n",
    "# 获取数据\n",
    "data = mge.tensor(original_data)\n",
    "label = mge.tensor(original_label)\n",
    "\n",
    "# 初始化参数\n",
    "w = mge.Parameter([0.0])\n",
    "b = mge.Parameter([0.0])\n",
    "\n",
    "# 定义模型\n",
    "def linear_model(x):\n",
    "    return F.mul(w, x) + b\n",
    "\n",
    "# 定义求导器和优化器\n",
    "gm = GradManager().attach([w, b])\n",
    "optimizer = optim.SGD([w, b], lr=lr)\n",
    "\n",
    "# 模型训练\n",
    "for epoch in range(epochs):\n",
    "    with gm:\n",
    "        pred = linear_model(data)\n",
    "        loss = F.nn.square_loss(pred, label)\n",
    "        gm.backward(loss)\n",
    "    optimizer.step().clear_grad()\n",
    "    \n",
    "    print(\"epoch = {}, w = {:.3f}, b = {:.3f}, loss = {:.3f}\"\n",
    "          .format(epoch, w.numpy().item(), b.numpy().item(), loss.numpy().item()))"
   ]
  },
  {
   "cell_type": "markdown",
   "metadata": {},
   "source": [
    "你应该会得到相同的 `w`, `b` 以及 `loss` 值，下面直线的拟合程度也应该和 Numpy 实现一致："
   ]
  },
  {
   "cell_type": "code",
   "execution_count": 25,
   "metadata": {},
   "outputs": [
    {
     "data": {
      "image/png": "[encoded data removed]",
      "text/plain": [
       "<Figure size 432x288 with 1 Axes>"
      ]
     },
     "metadata": {
      "needs_background": "light"
     },
     "output_type": "display_data"
    }
   ],
   "source": [
    "# 绘图查看拟合情况\n",
    "x = np.array([-10, 10])\n",
    "y = w.numpy() * x + b.numpy()\n",
    "plt.scatter(data, label, marker=\".\")\n",
    "plt.plot(x, y, \"-b\")\n",
    "plt.show()"
   ]
  },
  {
   "cell_type": "markdown",
   "metadata": {},
   "source": [
    "## 总结回顾\n",
    "\n",
    "祝贺你完成了入门教程的学习，现在是时候休息一下，做一个简单的回顾了：\n",
    "\n",
    "到目前为止，我们已经掌握了天元 MegEngine 框架中的以下概念：\n",
    "- 计算图（Computing Graph）：MegEngine 是基于计算图的框架，计算图中存在数据节点、计算节点和边\n",
    "  - 前向传播：输入的数据在计算图中经过计算得到最终输出的过程，我们使用损失 `loss` 表示预测值和实际值的差异\n",
    "  - 反向传播：根据链式法则，得到计算图中所有参数 w 关于 loss 的梯度 dw ，实现在 `autodiff` 模块，由 `GradManager` 进行管理\n",
    "  - 参数更新：根据梯度下降算法，更新图中参数，从而达到优化最终 loss 的效果，实现在 `optimzer` 模块\n",
    "- 张量（Tensor）：MegEngine 中的基础数据结构，用来表示计算图中的数据节点，可以灵活地与 Numpy 数据结构转化\n",
    "  - 参数（Parameter）：用于和张量做概念上的区分，模型优化的过程实际上就是优化器对参数进行了更新\n",
    "- 算子（Operator）：基于 Tensor 的各种计算的实现（包括损失函数），实现在 `functional` 模块\n",
    "\n",
    "我们通过拟合 $y = w * x + b$ 完成了一个最简单的线性回归模型的训练，干得漂亮！"
   ]
  },
  {
   "cell_type": "markdown",
   "metadata": {},
   "source": [
    "## 问题思考\n",
    "\n",
    "我们的 MegEngine 打怪升级之旅还没有结束，在前往下一关之前，尝试思考一些问题吧。\n",
    "\n",
    "关于向量化实现：\n",
    "\n",
    "- 当你发现 Python 代码运行较慢时，通常可以将数据处理移入 NumPy 并采用向量化（Vectorization）写法，实现最高速度的处理\n",
    "- 线性模型训练的 NumPy 写法中，单个 `epoch` 训练内出现了 `for` 循环，实际上可以采取向量化的实现（参考 MegEngine 实现的写法）\n",
    "- 使用向量化的实现，通常计算的效率会更高，因此建议：代码中能够用向量化代替 `for` 循环的地方，就尽可能地使用向量化实现\n",
    "\n",
    "关于设备：\n",
    "\n",
    "- 都说 GPU 训练神经网络模型速度会比 CPU 训练快非常多，为什么？\n",
    "- 我们可以把 Tensor 指定计算设备为 GPU 或 CPU，而原生 NumPy 只支持 CPU 计算，Tensor 转化为 ndarray 的过程是什么样的？\n",
    "- 训练的速度是否会受到训练设备数量的影响呢？可不可以多个设备一起进行训练？\n",
    "\n",
    "关于参数与超参数：\n",
    "- 现在我们接触到了两个超参数 `epochs` 和 `lr`, 调整它们的值是否会对模型的训练产生影响？（不妨自己动手调整试试）\n",
    "- 更新参数所用的梯度 `grad_w`，是所有样本的梯度之和 `sum_grad_w` 求均值，为什么不在每个样本反向传播后立即更新参数 `w`？\n",
    "- 我们看上去得到了一条拟合得很不错的曲线，但是得到的 `b` 距离真实的 `b` 还比较遥远，为什么？如何解决这种情况？\n",
    "- 如何选取合适的超参数，对于超参数的选取是否有一定的规律或者经验可寻？\n",
    "\n",
    "关于数据集：\n",
    "- 我们在线性模型中使用的是从 NumPy 代码生成的随机数据，修改数据集的样本数量 `n` 和噪声扰动程度 `noise` 会有什么影响？\n",
    "- 对于现实中的数据集，如何转换成 MegEngine Tensor 的形式进行使用？\n",
    "- 这中间需要经过什么样的预处理（Preprocessing）过程，有哪些流程是可以交由框架来完成的？\n",
    "\n",
    "关于模型：\n",
    "- 我们学会了定义了非常简单的线性模型 `linear_model`, 更复杂的模型要如何去写？\n",
    "- 既然任何神经网络模型本质上都可以用计算图来表示，那么神经网络模型的搭建流程是什么样的？\n",
    "\n",
    "关于最佳实践：\n",
    "- 在编写代码时，经常会有根据前人经验总结出的最佳实践（Best Practice）作为参考，例如：\n",
    "  - 参数的更新和梯度的清空可以写在一起 `optimizer.step().clear_grad()`\n",
    "  - 在导入某些包的时候，通常有约定俗成的缩写如 `import megengine as mge`\n",
    "- 除此以外，还有什么样的编程习惯和最佳实践值得参考？如何将一份玩具代码整理变成工程化的代码？\n",
    "\n",
    "答案最终将由你来揭晓，我们鼓励你在实践中不断思考，并启发自己去探索直觉性或理论性的解释。"
   ]
  }
 ],
 "metadata": {
  "kernelspec": {
   "display_name": "GPU",
   "language": "python",
   "name": "gpu"
  },
  "language_info": {
   "codemirror_mode": {
    "name": "ipython",
    "version": 3
   },
   "file_extension": ".py",
   "mimetype": "text/x-python",
   "name": "python",
   "nbconvert_exporter": "python",
   "pygments_lexer": "ipython3",
   "version": "3.6.9"
  }
 },
 "nbformat": 4,
 "nbformat_minor": 4
}
